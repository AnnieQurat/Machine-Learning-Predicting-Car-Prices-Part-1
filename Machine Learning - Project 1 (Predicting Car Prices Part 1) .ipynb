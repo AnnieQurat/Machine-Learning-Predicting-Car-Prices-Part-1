{
 "cells": [
  {
   "cell_type": "code",
   "execution_count": 1,
   "metadata": {},
   "outputs": [],
   "source": [
    "# python version: python3"
   ]
  },
  {
   "cell_type": "markdown",
   "metadata": {},
   "source": [
    "## DATA PREPARATION"
   ]
  },
  {
   "cell_type": "markdown",
   "metadata": {},
   "source": [
    "### part a"
   ]
  },
  {
   "cell_type": "code",
   "execution_count": 2,
   "metadata": {},
   "outputs": [
    {
     "data": {
      "text/html": [
       "<div>\n",
       "<style scoped>\n",
       "    .dataframe tbody tr th:only-of-type {\n",
       "        vertical-align: middle;\n",
       "    }\n",
       "\n",
       "    .dataframe tbody tr th {\n",
       "        vertical-align: top;\n",
       "    }\n",
       "\n",
       "    .dataframe thead th {\n",
       "        text-align: right;\n",
       "    }\n",
       "</style>\n",
       "<table border=\"1\" class=\"dataframe\">\n",
       "  <thead>\n",
       "    <tr style=\"text-align: right;\">\n",
       "      <th></th>\n",
       "      <th>fueltype</th>\n",
       "      <th>aspiration</th>\n",
       "      <th>doornumber</th>\n",
       "      <th>carbody</th>\n",
       "      <th>drivewheel</th>\n",
       "      <th>enginelocation</th>\n",
       "      <th>wheelbase</th>\n",
       "      <th>carlength</th>\n",
       "      <th>carwidth</th>\n",
       "      <th>carheight</th>\n",
       "      <th>...</th>\n",
       "      <th>enginesize</th>\n",
       "      <th>fuelsystem</th>\n",
       "      <th>boreratio</th>\n",
       "      <th>stroke</th>\n",
       "      <th>compressionratio</th>\n",
       "      <th>horsepower</th>\n",
       "      <th>peakrpm</th>\n",
       "      <th>citympg</th>\n",
       "      <th>highwaympg</th>\n",
       "      <th>price</th>\n",
       "    </tr>\n",
       "  </thead>\n",
       "  <tbody>\n",
       "    <tr>\n",
       "      <th>0</th>\n",
       "      <td>gas</td>\n",
       "      <td>std</td>\n",
       "      <td>four</td>\n",
       "      <td>sedan</td>\n",
       "      <td>rwd</td>\n",
       "      <td>front</td>\n",
       "      <td>104.3</td>\n",
       "      <td>188.8</td>\n",
       "      <td>67.2</td>\n",
       "      <td>56.2</td>\n",
       "      <td>...</td>\n",
       "      <td>141.0</td>\n",
       "      <td>mpfi</td>\n",
       "      <td>NaN</td>\n",
       "      <td>3.15</td>\n",
       "      <td>9.5</td>\n",
       "      <td>114.0</td>\n",
       "      <td>5400.0</td>\n",
       "      <td>24.0</td>\n",
       "      <td>28.0</td>\n",
       "      <td>15985.0</td>\n",
       "    </tr>\n",
       "    <tr>\n",
       "      <th>1</th>\n",
       "      <td>gas</td>\n",
       "      <td>std</td>\n",
       "      <td>four</td>\n",
       "      <td>wagon</td>\n",
       "      <td>fwd</td>\n",
       "      <td>front</td>\n",
       "      <td>94.5</td>\n",
       "      <td>170.2</td>\n",
       "      <td>63.8</td>\n",
       "      <td>53.5</td>\n",
       "      <td>...</td>\n",
       "      <td>97.0</td>\n",
       "      <td>2bbl</td>\n",
       "      <td>3.15</td>\n",
       "      <td>3.29</td>\n",
       "      <td>9.4</td>\n",
       "      <td>69.0</td>\n",
       "      <td>5200.0</td>\n",
       "      <td>31.0</td>\n",
       "      <td>37.0</td>\n",
       "      <td>7349.0</td>\n",
       "    </tr>\n",
       "    <tr>\n",
       "      <th>2</th>\n",
       "      <td>gas</td>\n",
       "      <td>std</td>\n",
       "      <td>four</td>\n",
       "      <td>sedan</td>\n",
       "      <td>fwd</td>\n",
       "      <td>front</td>\n",
       "      <td>94.5</td>\n",
       "      <td>165.3</td>\n",
       "      <td>63.8</td>\n",
       "      <td>54.5</td>\n",
       "      <td>...</td>\n",
       "      <td>NaN</td>\n",
       "      <td>2bbl</td>\n",
       "      <td>3.15</td>\n",
       "      <td>3.29</td>\n",
       "      <td>9.4</td>\n",
       "      <td>69.0</td>\n",
       "      <td>5200.0</td>\n",
       "      <td>31.0</td>\n",
       "      <td>37.0</td>\n",
       "      <td>6849.0</td>\n",
       "    </tr>\n",
       "    <tr>\n",
       "      <th>3</th>\n",
       "      <td>gas</td>\n",
       "      <td>std</td>\n",
       "      <td>four</td>\n",
       "      <td>sedan</td>\n",
       "      <td>rwd</td>\n",
       "      <td>front</td>\n",
       "      <td>104.5</td>\n",
       "      <td>187.8</td>\n",
       "      <td>66.5</td>\n",
       "      <td>54.1</td>\n",
       "      <td>...</td>\n",
       "      <td>171.0</td>\n",
       "      <td>mpfi</td>\n",
       "      <td>3.27</td>\n",
       "      <td>3.35</td>\n",
       "      <td>9.2</td>\n",
       "      <td>156.0</td>\n",
       "      <td>5200.0</td>\n",
       "      <td>20.0</td>\n",
       "      <td>24.0</td>\n",
       "      <td>15690.0</td>\n",
       "    </tr>\n",
       "    <tr>\n",
       "      <th>4</th>\n",
       "      <td>gas</td>\n",
       "      <td>std</td>\n",
       "      <td>four</td>\n",
       "      <td>sedan</td>\n",
       "      <td>fwd</td>\n",
       "      <td>front</td>\n",
       "      <td>93.7</td>\n",
       "      <td>167.3</td>\n",
       "      <td>NaN</td>\n",
       "      <td>50.8</td>\n",
       "      <td>...</td>\n",
       "      <td>90.0</td>\n",
       "      <td>2bbl</td>\n",
       "      <td>2.97</td>\n",
       "      <td>3.23</td>\n",
       "      <td>9.4</td>\n",
       "      <td>68.0</td>\n",
       "      <td>5500.0</td>\n",
       "      <td>31.0</td>\n",
       "      <td>38.0</td>\n",
       "      <td>6692.0</td>\n",
       "    </tr>\n",
       "    <tr>\n",
       "      <th>...</th>\n",
       "      <td>...</td>\n",
       "      <td>...</td>\n",
       "      <td>...</td>\n",
       "      <td>...</td>\n",
       "      <td>...</td>\n",
       "      <td>...</td>\n",
       "      <td>...</td>\n",
       "      <td>...</td>\n",
       "      <td>...</td>\n",
       "      <td>...</td>\n",
       "      <td>...</td>\n",
       "      <td>...</td>\n",
       "      <td>...</td>\n",
       "      <td>...</td>\n",
       "      <td>...</td>\n",
       "      <td>...</td>\n",
       "      <td>...</td>\n",
       "      <td>...</td>\n",
       "      <td>...</td>\n",
       "      <td>...</td>\n",
       "      <td>...</td>\n",
       "    </tr>\n",
       "    <tr>\n",
       "      <th>159</th>\n",
       "      <td>diesel</td>\n",
       "      <td>turbo</td>\n",
       "      <td>four</td>\n",
       "      <td>wagon</td>\n",
       "      <td>rwd</td>\n",
       "      <td>front</td>\n",
       "      <td>110.0</td>\n",
       "      <td>190.9</td>\n",
       "      <td>70.3</td>\n",
       "      <td>58.7</td>\n",
       "      <td>...</td>\n",
       "      <td>183.0</td>\n",
       "      <td>idi</td>\n",
       "      <td>3.58</td>\n",
       "      <td>3.64</td>\n",
       "      <td>21.5</td>\n",
       "      <td>123.0</td>\n",
       "      <td>4350.0</td>\n",
       "      <td>22.0</td>\n",
       "      <td>25.0</td>\n",
       "      <td>28248.0</td>\n",
       "    </tr>\n",
       "    <tr>\n",
       "      <th>160</th>\n",
       "      <td>gas</td>\n",
       "      <td>turbo</td>\n",
       "      <td>two</td>\n",
       "      <td>hatchback</td>\n",
       "      <td>fwd</td>\n",
       "      <td>front</td>\n",
       "      <td>95.9</td>\n",
       "      <td>173.2</td>\n",
       "      <td>66.3</td>\n",
       "      <td>50.2</td>\n",
       "      <td>...</td>\n",
       "      <td>156.0</td>\n",
       "      <td>spdi</td>\n",
       "      <td>3.59</td>\n",
       "      <td>3.86</td>\n",
       "      <td>7.0</td>\n",
       "      <td>145.0</td>\n",
       "      <td>5000.0</td>\n",
       "      <td>19.0</td>\n",
       "      <td>24.0</td>\n",
       "      <td>14489.0</td>\n",
       "    </tr>\n",
       "    <tr>\n",
       "      <th>161</th>\n",
       "      <td>gas</td>\n",
       "      <td>std</td>\n",
       "      <td>four</td>\n",
       "      <td>sedan</td>\n",
       "      <td>fwd</td>\n",
       "      <td>front</td>\n",
       "      <td>93.7</td>\n",
       "      <td>157.3</td>\n",
       "      <td>63.8</td>\n",
       "      <td>50.6</td>\n",
       "      <td>...</td>\n",
       "      <td>90.0</td>\n",
       "      <td>2bbl</td>\n",
       "      <td>2.97</td>\n",
       "      <td>3.23</td>\n",
       "      <td>9.4</td>\n",
       "      <td>68.0</td>\n",
       "      <td>5500.0</td>\n",
       "      <td>31.0</td>\n",
       "      <td>38.0</td>\n",
       "      <td>7609.0</td>\n",
       "    </tr>\n",
       "    <tr>\n",
       "      <th>162</th>\n",
       "      <td>gas</td>\n",
       "      <td>std</td>\n",
       "      <td>two</td>\n",
       "      <td>hatchback</td>\n",
       "      <td>fwd</td>\n",
       "      <td>front</td>\n",
       "      <td>93.7</td>\n",
       "      <td>156.9</td>\n",
       "      <td>63.4</td>\n",
       "      <td>53.7</td>\n",
       "      <td>...</td>\n",
       "      <td>97.0</td>\n",
       "      <td>2bbl</td>\n",
       "      <td>3.62</td>\n",
       "      <td>2.36</td>\n",
       "      <td>NaN</td>\n",
       "      <td>69.0</td>\n",
       "      <td>4900.0</td>\n",
       "      <td>31.0</td>\n",
       "      <td>36.0</td>\n",
       "      <td>5118.0</td>\n",
       "    </tr>\n",
       "    <tr>\n",
       "      <th>163</th>\n",
       "      <td>gas</td>\n",
       "      <td>std</td>\n",
       "      <td>four</td>\n",
       "      <td>wagon</td>\n",
       "      <td>4wd</td>\n",
       "      <td>front</td>\n",
       "      <td>95.7</td>\n",
       "      <td>169.7</td>\n",
       "      <td>63.6</td>\n",
       "      <td>NaN</td>\n",
       "      <td>...</td>\n",
       "      <td>92.0</td>\n",
       "      <td>2bbl</td>\n",
       "      <td>3.05</td>\n",
       "      <td>3.03</td>\n",
       "      <td>9.0</td>\n",
       "      <td>62.0</td>\n",
       "      <td>4800.0</td>\n",
       "      <td>27.0</td>\n",
       "      <td>32.0</td>\n",
       "      <td>8778.0</td>\n",
       "    </tr>\n",
       "  </tbody>\n",
       "</table>\n",
       "<p>164 rows × 23 columns</p>\n",
       "</div>"
      ],
      "text/plain": [
       "    fueltype aspiration doornumber    carbody drivewheel enginelocation  \\\n",
       "0        gas        std       four      sedan        rwd          front   \n",
       "1        gas        std       four      wagon        fwd          front   \n",
       "2        gas        std       four      sedan        fwd          front   \n",
       "3        gas        std       four      sedan        rwd          front   \n",
       "4        gas        std       four      sedan        fwd          front   \n",
       "..       ...        ...        ...        ...        ...            ...   \n",
       "159   diesel      turbo       four      wagon        rwd          front   \n",
       "160      gas      turbo        two  hatchback        fwd          front   \n",
       "161      gas        std       four      sedan        fwd          front   \n",
       "162      gas        std        two  hatchback        fwd          front   \n",
       "163      gas        std       four      wagon        4wd          front   \n",
       "\n",
       "     wheelbase  carlength  carwidth  carheight  ...  enginesize fuelsystem  \\\n",
       "0        104.3      188.8      67.2       56.2  ...       141.0       mpfi   \n",
       "1         94.5      170.2      63.8       53.5  ...        97.0       2bbl   \n",
       "2         94.5      165.3      63.8       54.5  ...         NaN       2bbl   \n",
       "3        104.5      187.8      66.5       54.1  ...       171.0       mpfi   \n",
       "4         93.7      167.3       NaN       50.8  ...        90.0       2bbl   \n",
       "..         ...        ...       ...        ...  ...         ...        ...   \n",
       "159      110.0      190.9      70.3       58.7  ...       183.0        idi   \n",
       "160       95.9      173.2      66.3       50.2  ...       156.0       spdi   \n",
       "161       93.7      157.3      63.8       50.6  ...        90.0       2bbl   \n",
       "162       93.7      156.9      63.4       53.7  ...        97.0       2bbl   \n",
       "163       95.7      169.7      63.6        NaN  ...        92.0       2bbl   \n",
       "\n",
       "    boreratio  stroke compressionratio  horsepower  peakrpm  citympg  \\\n",
       "0         NaN    3.15              9.5       114.0   5400.0     24.0   \n",
       "1        3.15    3.29              9.4        69.0   5200.0     31.0   \n",
       "2        3.15    3.29              9.4        69.0   5200.0     31.0   \n",
       "3        3.27    3.35              9.2       156.0   5200.0     20.0   \n",
       "4        2.97    3.23              9.4        68.0   5500.0     31.0   \n",
       "..        ...     ...              ...         ...      ...      ...   \n",
       "159      3.58    3.64             21.5       123.0   4350.0     22.0   \n",
       "160      3.59    3.86              7.0       145.0   5000.0     19.0   \n",
       "161      2.97    3.23              9.4        68.0   5500.0     31.0   \n",
       "162      3.62    2.36              NaN        69.0   4900.0     31.0   \n",
       "163      3.05    3.03              9.0        62.0   4800.0     27.0   \n",
       "\n",
       "     highwaympg    price  \n",
       "0          28.0  15985.0  \n",
       "1          37.0   7349.0  \n",
       "2          37.0   6849.0  \n",
       "3          24.0  15690.0  \n",
       "4          38.0   6692.0  \n",
       "..          ...      ...  \n",
       "159        25.0  28248.0  \n",
       "160        24.0  14489.0  \n",
       "161        38.0   7609.0  \n",
       "162        36.0   5118.0  \n",
       "163        32.0   8778.0  \n",
       "\n",
       "[164 rows x 23 columns]"
      ]
     },
     "execution_count": 2,
     "metadata": {},
     "output_type": "execute_result"
    }
   ],
   "source": [
    "# first import the csv dataset in pandas dataframe\n",
    "import pandas as pd\n",
    "train = pd.read_csv(\"training.csv\")\n",
    "train"
   ]
  },
  {
   "cell_type": "code",
   "execution_count": 3,
   "metadata": {},
   "outputs": [
    {
     "data": {
      "text/html": [
       "<div>\n",
       "<style scoped>\n",
       "    .dataframe tbody tr th:only-of-type {\n",
       "        vertical-align: middle;\n",
       "    }\n",
       "\n",
       "    .dataframe tbody tr th {\n",
       "        vertical-align: top;\n",
       "    }\n",
       "\n",
       "    .dataframe thead th {\n",
       "        text-align: right;\n",
       "    }\n",
       "</style>\n",
       "<table border=\"1\" class=\"dataframe\">\n",
       "  <thead>\n",
       "    <tr style=\"text-align: right;\">\n",
       "      <th></th>\n",
       "      <th>fueltype</th>\n",
       "      <th>aspiration</th>\n",
       "      <th>doornumber</th>\n",
       "      <th>carbody</th>\n",
       "      <th>drivewheel</th>\n",
       "      <th>enginelocation</th>\n",
       "      <th>wheelbase</th>\n",
       "      <th>carlength</th>\n",
       "      <th>carwidth</th>\n",
       "      <th>carheight</th>\n",
       "      <th>...</th>\n",
       "      <th>cylindernumber</th>\n",
       "      <th>enginesize</th>\n",
       "      <th>fuelsystem</th>\n",
       "      <th>boreratio</th>\n",
       "      <th>stroke</th>\n",
       "      <th>compressionratio</th>\n",
       "      <th>horsepower</th>\n",
       "      <th>peakrpm</th>\n",
       "      <th>citympg</th>\n",
       "      <th>highwaympg</th>\n",
       "    </tr>\n",
       "  </thead>\n",
       "  <tbody>\n",
       "    <tr>\n",
       "      <th>0</th>\n",
       "      <td>gas</td>\n",
       "      <td>std</td>\n",
       "      <td>four</td>\n",
       "      <td>sedan</td>\n",
       "      <td>rwd</td>\n",
       "      <td>front</td>\n",
       "      <td>104.3</td>\n",
       "      <td>188.8</td>\n",
       "      <td>67.2</td>\n",
       "      <td>56.2</td>\n",
       "      <td>...</td>\n",
       "      <td>four</td>\n",
       "      <td>141.0</td>\n",
       "      <td>mpfi</td>\n",
       "      <td>NaN</td>\n",
       "      <td>3.15</td>\n",
       "      <td>9.5</td>\n",
       "      <td>114.0</td>\n",
       "      <td>5400.0</td>\n",
       "      <td>24.0</td>\n",
       "      <td>28.0</td>\n",
       "    </tr>\n",
       "    <tr>\n",
       "      <th>1</th>\n",
       "      <td>gas</td>\n",
       "      <td>std</td>\n",
       "      <td>four</td>\n",
       "      <td>wagon</td>\n",
       "      <td>fwd</td>\n",
       "      <td>front</td>\n",
       "      <td>94.5</td>\n",
       "      <td>170.2</td>\n",
       "      <td>63.8</td>\n",
       "      <td>53.5</td>\n",
       "      <td>...</td>\n",
       "      <td>four</td>\n",
       "      <td>97.0</td>\n",
       "      <td>2bbl</td>\n",
       "      <td>3.15</td>\n",
       "      <td>3.29</td>\n",
       "      <td>9.4</td>\n",
       "      <td>69.0</td>\n",
       "      <td>5200.0</td>\n",
       "      <td>31.0</td>\n",
       "      <td>37.0</td>\n",
       "    </tr>\n",
       "  </tbody>\n",
       "</table>\n",
       "<p>2 rows × 22 columns</p>\n",
       "</div>"
      ],
      "text/plain": [
       "  fueltype aspiration doornumber carbody drivewheel enginelocation  wheelbase  \\\n",
       "0      gas        std       four   sedan        rwd          front      104.3   \n",
       "1      gas        std       four   wagon        fwd          front       94.5   \n",
       "\n",
       "   carlength  carwidth  carheight  ...  cylindernumber enginesize fuelsystem  \\\n",
       "0      188.8      67.2       56.2  ...            four      141.0       mpfi   \n",
       "1      170.2      63.8       53.5  ...            four       97.0       2bbl   \n",
       "\n",
       "   boreratio stroke  compressionratio  horsepower  peakrpm  citympg  \\\n",
       "0        NaN   3.15               9.5       114.0   5400.0     24.0   \n",
       "1       3.15   3.29               9.4        69.0   5200.0     31.0   \n",
       "\n",
       "   highwaympg  \n",
       "0        28.0  \n",
       "1        37.0  \n",
       "\n",
       "[2 rows x 22 columns]"
      ]
     },
     "execution_count": 3,
     "metadata": {},
     "output_type": "execute_result"
    }
   ],
   "source": [
    "# then split the train data \n",
    "train_x_a = train.iloc[:, 0:22]\n",
    "train_x_a.head(2)"
   ]
  },
  {
   "cell_type": "code",
   "execution_count": 4,
   "metadata": {},
   "outputs": [
    {
     "data": {
      "text/plain": [
       "0    15985.0\n",
       "1     7349.0\n",
       "Name: price, dtype: float64"
      ]
     },
     "execution_count": 4,
     "metadata": {},
     "output_type": "execute_result"
    }
   ],
   "source": [
    "train_y = train['price']\n",
    "train_y.head(2)"
   ]
  },
  {
   "cell_type": "markdown",
   "metadata": {},
   "source": [
    "### part b"
   ]
  },
  {
   "cell_type": "code",
   "execution_count": 5,
   "metadata": {
    "scrolled": false
   },
   "outputs": [
    {
     "data": {
      "text/html": [
       "<div>\n",
       "<style scoped>\n",
       "    .dataframe tbody tr th:only-of-type {\n",
       "        vertical-align: middle;\n",
       "    }\n",
       "\n",
       "    .dataframe tbody tr th {\n",
       "        vertical-align: top;\n",
       "    }\n",
       "\n",
       "    .dataframe thead th {\n",
       "        text-align: right;\n",
       "    }\n",
       "</style>\n",
       "<table border=\"1\" class=\"dataframe\">\n",
       "  <thead>\n",
       "    <tr style=\"text-align: right;\">\n",
       "      <th></th>\n",
       "      <th>fueltype</th>\n",
       "      <th>aspiration</th>\n",
       "      <th>doornumber</th>\n",
       "      <th>carbody</th>\n",
       "      <th>drivewheel</th>\n",
       "      <th>enginelocation</th>\n",
       "      <th>wheelbase</th>\n",
       "      <th>carlength</th>\n",
       "      <th>carwidth</th>\n",
       "      <th>carheight</th>\n",
       "      <th>...</th>\n",
       "      <th>enginesize</th>\n",
       "      <th>fuelsystem</th>\n",
       "      <th>boreratio</th>\n",
       "      <th>stroke</th>\n",
       "      <th>compressionratio</th>\n",
       "      <th>horsepower</th>\n",
       "      <th>peakrpm</th>\n",
       "      <th>citympg</th>\n",
       "      <th>highwaympg</th>\n",
       "      <th>price</th>\n",
       "    </tr>\n",
       "  </thead>\n",
       "  <tbody>\n",
       "    <tr>\n",
       "      <th>0</th>\n",
       "      <td>gas</td>\n",
       "      <td>std</td>\n",
       "      <td>four</td>\n",
       "      <td>sedan</td>\n",
       "      <td>rwd</td>\n",
       "      <td>front</td>\n",
       "      <td>104.3</td>\n",
       "      <td>188.8</td>\n",
       "      <td>67.2</td>\n",
       "      <td>56.2</td>\n",
       "      <td>...</td>\n",
       "      <td>141.0</td>\n",
       "      <td>mpfi</td>\n",
       "      <td>NaN</td>\n",
       "      <td>3.15</td>\n",
       "      <td>9.5</td>\n",
       "      <td>114.0</td>\n",
       "      <td>5400.0</td>\n",
       "      <td>24.0</td>\n",
       "      <td>28.0</td>\n",
       "      <td>15985.0</td>\n",
       "    </tr>\n",
       "    <tr>\n",
       "      <th>1</th>\n",
       "      <td>gas</td>\n",
       "      <td>std</td>\n",
       "      <td>four</td>\n",
       "      <td>wagon</td>\n",
       "      <td>fwd</td>\n",
       "      <td>front</td>\n",
       "      <td>94.5</td>\n",
       "      <td>170.2</td>\n",
       "      <td>63.8</td>\n",
       "      <td>53.5</td>\n",
       "      <td>...</td>\n",
       "      <td>97.0</td>\n",
       "      <td>2bbl</td>\n",
       "      <td>3.15</td>\n",
       "      <td>3.29</td>\n",
       "      <td>9.4</td>\n",
       "      <td>69.0</td>\n",
       "      <td>5200.0</td>\n",
       "      <td>31.0</td>\n",
       "      <td>37.0</td>\n",
       "      <td>7349.0</td>\n",
       "    </tr>\n",
       "    <tr>\n",
       "      <th>2</th>\n",
       "      <td>gas</td>\n",
       "      <td>std</td>\n",
       "      <td>four</td>\n",
       "      <td>sedan</td>\n",
       "      <td>fwd</td>\n",
       "      <td>front</td>\n",
       "      <td>94.5</td>\n",
       "      <td>165.3</td>\n",
       "      <td>63.8</td>\n",
       "      <td>54.5</td>\n",
       "      <td>...</td>\n",
       "      <td>NaN</td>\n",
       "      <td>2bbl</td>\n",
       "      <td>3.15</td>\n",
       "      <td>3.29</td>\n",
       "      <td>9.4</td>\n",
       "      <td>69.0</td>\n",
       "      <td>5200.0</td>\n",
       "      <td>31.0</td>\n",
       "      <td>37.0</td>\n",
       "      <td>6849.0</td>\n",
       "    </tr>\n",
       "    <tr>\n",
       "      <th>3</th>\n",
       "      <td>gas</td>\n",
       "      <td>std</td>\n",
       "      <td>four</td>\n",
       "      <td>sedan</td>\n",
       "      <td>rwd</td>\n",
       "      <td>front</td>\n",
       "      <td>104.5</td>\n",
       "      <td>187.8</td>\n",
       "      <td>66.5</td>\n",
       "      <td>54.1</td>\n",
       "      <td>...</td>\n",
       "      <td>171.0</td>\n",
       "      <td>mpfi</td>\n",
       "      <td>3.27</td>\n",
       "      <td>3.35</td>\n",
       "      <td>9.2</td>\n",
       "      <td>156.0</td>\n",
       "      <td>5200.0</td>\n",
       "      <td>20.0</td>\n",
       "      <td>24.0</td>\n",
       "      <td>15690.0</td>\n",
       "    </tr>\n",
       "    <tr>\n",
       "      <th>4</th>\n",
       "      <td>gas</td>\n",
       "      <td>std</td>\n",
       "      <td>four</td>\n",
       "      <td>sedan</td>\n",
       "      <td>fwd</td>\n",
       "      <td>front</td>\n",
       "      <td>93.7</td>\n",
       "      <td>167.3</td>\n",
       "      <td>NaN</td>\n",
       "      <td>50.8</td>\n",
       "      <td>...</td>\n",
       "      <td>90.0</td>\n",
       "      <td>2bbl</td>\n",
       "      <td>2.97</td>\n",
       "      <td>3.23</td>\n",
       "      <td>9.4</td>\n",
       "      <td>68.0</td>\n",
       "      <td>5500.0</td>\n",
       "      <td>31.0</td>\n",
       "      <td>38.0</td>\n",
       "      <td>6692.0</td>\n",
       "    </tr>\n",
       "    <tr>\n",
       "      <th>...</th>\n",
       "      <td>...</td>\n",
       "      <td>...</td>\n",
       "      <td>...</td>\n",
       "      <td>...</td>\n",
       "      <td>...</td>\n",
       "      <td>...</td>\n",
       "      <td>...</td>\n",
       "      <td>...</td>\n",
       "      <td>...</td>\n",
       "      <td>...</td>\n",
       "      <td>...</td>\n",
       "      <td>...</td>\n",
       "      <td>...</td>\n",
       "      <td>...</td>\n",
       "      <td>...</td>\n",
       "      <td>...</td>\n",
       "      <td>...</td>\n",
       "      <td>...</td>\n",
       "      <td>...</td>\n",
       "      <td>...</td>\n",
       "      <td>...</td>\n",
       "    </tr>\n",
       "    <tr>\n",
       "      <th>159</th>\n",
       "      <td>diesel</td>\n",
       "      <td>turbo</td>\n",
       "      <td>four</td>\n",
       "      <td>wagon</td>\n",
       "      <td>rwd</td>\n",
       "      <td>front</td>\n",
       "      <td>110.0</td>\n",
       "      <td>190.9</td>\n",
       "      <td>70.3</td>\n",
       "      <td>58.7</td>\n",
       "      <td>...</td>\n",
       "      <td>183.0</td>\n",
       "      <td>idi</td>\n",
       "      <td>3.58</td>\n",
       "      <td>3.64</td>\n",
       "      <td>21.5</td>\n",
       "      <td>123.0</td>\n",
       "      <td>4350.0</td>\n",
       "      <td>22.0</td>\n",
       "      <td>25.0</td>\n",
       "      <td>28248.0</td>\n",
       "    </tr>\n",
       "    <tr>\n",
       "      <th>160</th>\n",
       "      <td>gas</td>\n",
       "      <td>turbo</td>\n",
       "      <td>two</td>\n",
       "      <td>hatchback</td>\n",
       "      <td>fwd</td>\n",
       "      <td>front</td>\n",
       "      <td>95.9</td>\n",
       "      <td>173.2</td>\n",
       "      <td>66.3</td>\n",
       "      <td>50.2</td>\n",
       "      <td>...</td>\n",
       "      <td>156.0</td>\n",
       "      <td>spdi</td>\n",
       "      <td>3.59</td>\n",
       "      <td>3.86</td>\n",
       "      <td>7.0</td>\n",
       "      <td>145.0</td>\n",
       "      <td>5000.0</td>\n",
       "      <td>19.0</td>\n",
       "      <td>24.0</td>\n",
       "      <td>14489.0</td>\n",
       "    </tr>\n",
       "    <tr>\n",
       "      <th>161</th>\n",
       "      <td>gas</td>\n",
       "      <td>std</td>\n",
       "      <td>four</td>\n",
       "      <td>sedan</td>\n",
       "      <td>fwd</td>\n",
       "      <td>front</td>\n",
       "      <td>93.7</td>\n",
       "      <td>157.3</td>\n",
       "      <td>63.8</td>\n",
       "      <td>50.6</td>\n",
       "      <td>...</td>\n",
       "      <td>90.0</td>\n",
       "      <td>2bbl</td>\n",
       "      <td>2.97</td>\n",
       "      <td>3.23</td>\n",
       "      <td>9.4</td>\n",
       "      <td>68.0</td>\n",
       "      <td>5500.0</td>\n",
       "      <td>31.0</td>\n",
       "      <td>38.0</td>\n",
       "      <td>7609.0</td>\n",
       "    </tr>\n",
       "    <tr>\n",
       "      <th>162</th>\n",
       "      <td>gas</td>\n",
       "      <td>std</td>\n",
       "      <td>two</td>\n",
       "      <td>hatchback</td>\n",
       "      <td>fwd</td>\n",
       "      <td>front</td>\n",
       "      <td>93.7</td>\n",
       "      <td>156.9</td>\n",
       "      <td>63.4</td>\n",
       "      <td>53.7</td>\n",
       "      <td>...</td>\n",
       "      <td>97.0</td>\n",
       "      <td>2bbl</td>\n",
       "      <td>3.62</td>\n",
       "      <td>2.36</td>\n",
       "      <td>NaN</td>\n",
       "      <td>69.0</td>\n",
       "      <td>4900.0</td>\n",
       "      <td>31.0</td>\n",
       "      <td>36.0</td>\n",
       "      <td>5118.0</td>\n",
       "    </tr>\n",
       "    <tr>\n",
       "      <th>163</th>\n",
       "      <td>gas</td>\n",
       "      <td>std</td>\n",
       "      <td>four</td>\n",
       "      <td>wagon</td>\n",
       "      <td>4wd</td>\n",
       "      <td>front</td>\n",
       "      <td>95.7</td>\n",
       "      <td>169.7</td>\n",
       "      <td>63.6</td>\n",
       "      <td>NaN</td>\n",
       "      <td>...</td>\n",
       "      <td>92.0</td>\n",
       "      <td>2bbl</td>\n",
       "      <td>3.05</td>\n",
       "      <td>3.03</td>\n",
       "      <td>9.0</td>\n",
       "      <td>62.0</td>\n",
       "      <td>4800.0</td>\n",
       "      <td>27.0</td>\n",
       "      <td>32.0</td>\n",
       "      <td>8778.0</td>\n",
       "    </tr>\n",
       "  </tbody>\n",
       "</table>\n",
       "<p>155 rows × 23 columns</p>\n",
       "</div>"
      ],
      "text/plain": [
       "    fueltype aspiration doornumber    carbody drivewheel enginelocation  \\\n",
       "0        gas        std       four      sedan        rwd          front   \n",
       "1        gas        std       four      wagon        fwd          front   \n",
       "2        gas        std       four      sedan        fwd          front   \n",
       "3        gas        std       four      sedan        rwd          front   \n",
       "4        gas        std       four      sedan        fwd          front   \n",
       "..       ...        ...        ...        ...        ...            ...   \n",
       "159   diesel      turbo       four      wagon        rwd          front   \n",
       "160      gas      turbo        two  hatchback        fwd          front   \n",
       "161      gas        std       four      sedan        fwd          front   \n",
       "162      gas        std        two  hatchback        fwd          front   \n",
       "163      gas        std       four      wagon        4wd          front   \n",
       "\n",
       "     wheelbase  carlength  carwidth  carheight  ...  enginesize fuelsystem  \\\n",
       "0        104.3      188.8      67.2       56.2  ...       141.0       mpfi   \n",
       "1         94.5      170.2      63.8       53.5  ...        97.0       2bbl   \n",
       "2         94.5      165.3      63.8       54.5  ...         NaN       2bbl   \n",
       "3        104.5      187.8      66.5       54.1  ...       171.0       mpfi   \n",
       "4         93.7      167.3       NaN       50.8  ...        90.0       2bbl   \n",
       "..         ...        ...       ...        ...  ...         ...        ...   \n",
       "159      110.0      190.9      70.3       58.7  ...       183.0        idi   \n",
       "160       95.9      173.2      66.3       50.2  ...       156.0       spdi   \n",
       "161       93.7      157.3      63.8       50.6  ...        90.0       2bbl   \n",
       "162       93.7      156.9      63.4       53.7  ...        97.0       2bbl   \n",
       "163       95.7      169.7      63.6        NaN  ...        92.0       2bbl   \n",
       "\n",
       "    boreratio  stroke compressionratio  horsepower  peakrpm  citympg  \\\n",
       "0         NaN    3.15              9.5       114.0   5400.0     24.0   \n",
       "1        3.15    3.29              9.4        69.0   5200.0     31.0   \n",
       "2        3.15    3.29              9.4        69.0   5200.0     31.0   \n",
       "3        3.27    3.35              9.2       156.0   5200.0     20.0   \n",
       "4        2.97    3.23              9.4        68.0   5500.0     31.0   \n",
       "..        ...     ...              ...         ...      ...      ...   \n",
       "159      3.58    3.64             21.5       123.0   4350.0     22.0   \n",
       "160      3.59    3.86              7.0       145.0   5000.0     19.0   \n",
       "161      2.97    3.23              9.4        68.0   5500.0     31.0   \n",
       "162      3.62    2.36              NaN        69.0   4900.0     31.0   \n",
       "163      3.05    3.03              9.0        62.0   4800.0     27.0   \n",
       "\n",
       "     highwaympg    price  \n",
       "0          28.0  15985.0  \n",
       "1          37.0   7349.0  \n",
       "2          37.0   6849.0  \n",
       "3          24.0  15690.0  \n",
       "4          38.0   6692.0  \n",
       "..          ...      ...  \n",
       "159        25.0  28248.0  \n",
       "160        24.0  14489.0  \n",
       "161        38.0   7609.0  \n",
       "162        36.0   5118.0  \n",
       "163        32.0   8778.0  \n",
       "\n",
       "[155 rows x 23 columns]"
      ]
     },
     "execution_count": 5,
     "metadata": {},
     "output_type": "execute_result"
    }
   ],
   "source": [
    "# select dataframe where there are no null value in 'price' column\n",
    "train_new = train[train['price'].notna()]\n",
    "train_new"
   ]
  },
  {
   "cell_type": "code",
   "execution_count": 6,
   "metadata": {},
   "outputs": [],
   "source": [
    "# redefine train_x and train_y with non-null 'price' values\n",
    "train_x_a = train_new.iloc[:, 0:22]\n",
    "train_y = train_new['price']"
   ]
  },
  {
   "cell_type": "code",
   "execution_count": 7,
   "metadata": {},
   "outputs": [
    {
     "data": {
      "text/plain": [
       "Index(['wheelbase', 'carlength', 'carwidth', 'carheight', 'curbweight',\n",
       "       'enginesize', 'boreratio', 'stroke', 'compressionratio', 'horsepower',\n",
       "       'peakrpm', 'citympg', 'highwaympg'],\n",
       "      dtype='object')"
      ]
     },
     "execution_count": 7,
     "metadata": {},
     "output_type": "execute_result"
    }
   ],
   "source": [
    "# display all columns that contain missing values\n",
    "train_new.columns[train_new.isnull().any()]"
   ]
  },
  {
   "cell_type": "code",
   "execution_count": 8,
   "metadata": {},
   "outputs": [],
   "source": [
    "# store the missing columns in a list \n",
    "nan_columns = ['wheelbase', 'carlength', 'carwidth', 'carheight', 'curbweight',\n",
    "       'enginesize', 'boreratio', 'stroke', 'compressionratio', 'horsepower',\n",
    "       'peakrpm', 'citympg', 'highwaympg']"
   ]
  },
  {
   "cell_type": "code",
   "execution_count": 9,
   "metadata": {},
   "outputs": [],
   "source": [
    "# fill missing values with median of corresponding feature\n",
    "train_x_b = train_x_a.fillna(train_x_a.median())"
   ]
  },
  {
   "cell_type": "code",
   "execution_count": 10,
   "metadata": {},
   "outputs": [
    {
     "name": "stdout",
     "output_type": "stream",
     "text": [
      "fueltype            0\n",
      "aspiration          0\n",
      "doornumber          0\n",
      "carbody             0\n",
      "drivewheel          0\n",
      "enginelocation      0\n",
      "wheelbase           0\n",
      "carlength           0\n",
      "carwidth            0\n",
      "carheight           0\n",
      "curbweight          0\n",
      "enginetype          0\n",
      "cylindernumber      0\n",
      "enginesize          0\n",
      "fuelsystem          0\n",
      "boreratio           0\n",
      "stroke              0\n",
      "compressionratio    0\n",
      "horsepower          0\n",
      "peakrpm             0\n",
      "citympg             0\n",
      "highwaympg          0\n",
      "dtype: int64\n"
     ]
    }
   ],
   "source": [
    "# check if there are any missing values left\n",
    "print(train_x_b.isnull().sum())"
   ]
  },
  {
   "cell_type": "code",
   "execution_count": 11,
   "metadata": {},
   "outputs": [
    {
     "name": "stdout",
     "output_type": "stream",
     "text": [
      "['wheelbase', 'carlength', 'carwidth', 'carheight', 'curbweight', 'enginesize', 'boreratio', 'stroke', 'compressionratio', 'horsepower', 'peakrpm', 'citympg', 'highwaympg']\n"
     ]
    }
   ],
   "source": [
    "print(nan_columns)"
   ]
  },
  {
   "cell_type": "code",
   "execution_count": 12,
   "metadata": {},
   "outputs": [
    {
     "data": {
      "text/html": [
       "<div>\n",
       "<style scoped>\n",
       "    .dataframe tbody tr th:only-of-type {\n",
       "        vertical-align: middle;\n",
       "    }\n",
       "\n",
       "    .dataframe tbody tr th {\n",
       "        vertical-align: top;\n",
       "    }\n",
       "\n",
       "    .dataframe thead th {\n",
       "        text-align: right;\n",
       "    }\n",
       "</style>\n",
       "<table border=\"1\" class=\"dataframe\">\n",
       "  <thead>\n",
       "    <tr style=\"text-align: right;\">\n",
       "      <th></th>\n",
       "      <th>fueltype</th>\n",
       "      <th>aspiration</th>\n",
       "      <th>doornumber</th>\n",
       "      <th>carbody</th>\n",
       "      <th>drivewheel</th>\n",
       "      <th>enginelocation</th>\n",
       "      <th>wheelbase</th>\n",
       "      <th>carlength</th>\n",
       "      <th>carwidth</th>\n",
       "      <th>carheight</th>\n",
       "      <th>...</th>\n",
       "      <th>cylindernumber</th>\n",
       "      <th>enginesize</th>\n",
       "      <th>fuelsystem</th>\n",
       "      <th>boreratio</th>\n",
       "      <th>stroke</th>\n",
       "      <th>compressionratio</th>\n",
       "      <th>horsepower</th>\n",
       "      <th>peakrpm</th>\n",
       "      <th>citympg</th>\n",
       "      <th>highwaympg</th>\n",
       "    </tr>\n",
       "  </thead>\n",
       "  <tbody>\n",
       "    <tr>\n",
       "      <th>0</th>\n",
       "      <td>gas</td>\n",
       "      <td>std</td>\n",
       "      <td>four</td>\n",
       "      <td>sedan</td>\n",
       "      <td>rwd</td>\n",
       "      <td>front</td>\n",
       "      <td>104.3</td>\n",
       "      <td>188.8</td>\n",
       "      <td>67.2</td>\n",
       "      <td>56.2</td>\n",
       "      <td>...</td>\n",
       "      <td>four</td>\n",
       "      <td>141.0</td>\n",
       "      <td>mpfi</td>\n",
       "      <td>3.31</td>\n",
       "      <td>3.15</td>\n",
       "      <td>9.5</td>\n",
       "      <td>114.0</td>\n",
       "      <td>5400.0</td>\n",
       "      <td>24.0</td>\n",
       "      <td>28.0</td>\n",
       "    </tr>\n",
       "    <tr>\n",
       "      <th>1</th>\n",
       "      <td>gas</td>\n",
       "      <td>std</td>\n",
       "      <td>four</td>\n",
       "      <td>wagon</td>\n",
       "      <td>fwd</td>\n",
       "      <td>front</td>\n",
       "      <td>94.5</td>\n",
       "      <td>170.2</td>\n",
       "      <td>63.8</td>\n",
       "      <td>53.5</td>\n",
       "      <td>...</td>\n",
       "      <td>four</td>\n",
       "      <td>97.0</td>\n",
       "      <td>2bbl</td>\n",
       "      <td>3.15</td>\n",
       "      <td>3.29</td>\n",
       "      <td>9.4</td>\n",
       "      <td>69.0</td>\n",
       "      <td>5200.0</td>\n",
       "      <td>31.0</td>\n",
       "      <td>37.0</td>\n",
       "    </tr>\n",
       "  </tbody>\n",
       "</table>\n",
       "<p>2 rows × 22 columns</p>\n",
       "</div>"
      ],
      "text/plain": [
       "  fueltype aspiration doornumber carbody drivewheel enginelocation  wheelbase  \\\n",
       "0      gas        std       four   sedan        rwd          front      104.3   \n",
       "1      gas        std       four   wagon        fwd          front       94.5   \n",
       "\n",
       "   carlength  carwidth  carheight  ...  cylindernumber enginesize fuelsystem  \\\n",
       "0      188.8      67.2       56.2  ...            four      141.0       mpfi   \n",
       "1      170.2      63.8       53.5  ...            four       97.0       2bbl   \n",
       "\n",
       "   boreratio stroke  compressionratio  horsepower  peakrpm  citympg  \\\n",
       "0       3.31   3.15               9.5       114.0   5400.0     24.0   \n",
       "1       3.15   3.29               9.4        69.0   5200.0     31.0   \n",
       "\n",
       "   highwaympg  \n",
       "0        28.0  \n",
       "1        37.0  \n",
       "\n",
       "[2 rows x 22 columns]"
      ]
     },
     "execution_count": 12,
     "metadata": {},
     "output_type": "execute_result"
    }
   ],
   "source": [
    "train_x_b.head(2)"
   ]
  },
  {
   "cell_type": "markdown",
   "metadata": {},
   "source": [
    "### part c"
   ]
  },
  {
   "cell_type": "code",
   "execution_count": 13,
   "metadata": {},
   "outputs": [
    {
     "data": {
      "text/plain": [
       "Index(['fueltype', 'aspiration', 'doornumber', 'carbody', 'drivewheel',\n",
       "       'enginelocation', 'enginetype', 'cylindernumber', 'fuelsystem'],\n",
       "      dtype='object')"
      ]
     },
     "execution_count": 13,
     "metadata": {},
     "output_type": "execute_result"
    }
   ],
   "source": [
    "# find all features that contain categorical data\n",
    "train_new.select_dtypes(\"object\").columns"
   ]
  },
  {
   "cell_type": "code",
   "execution_count": 14,
   "metadata": {},
   "outputs": [],
   "source": [
    "# store these column names in a list \n",
    "categorical_columns = ['fueltype', 'aspiration', 'doornumber', 'carbody', 'drivewheel',\n",
    "       'enginelocation', 'enginetype', 'cylindernumber', 'fuelsystem']"
   ]
  },
  {
   "cell_type": "code",
   "execution_count": 15,
   "metadata": {},
   "outputs": [
    {
     "name": "stdout",
     "output_type": "stream",
     "text": [
      "['fueltype', 'aspiration', 'doornumber', 'carbody', 'drivewheel', 'enginelocation', 'enginetype', 'cylindernumber', 'fuelsystem']\n"
     ]
    }
   ],
   "source": [
    "print(categorical_columns)"
   ]
  },
  {
   "cell_type": "markdown",
   "metadata": {},
   "source": [
    "### part d"
   ]
  },
  {
   "cell_type": "code",
   "execution_count": 16,
   "metadata": {
    "scrolled": true
   },
   "outputs": [
    {
     "data": {
      "text/html": [
       "<div>\n",
       "<style scoped>\n",
       "    .dataframe tbody tr th:only-of-type {\n",
       "        vertical-align: middle;\n",
       "    }\n",
       "\n",
       "    .dataframe tbody tr th {\n",
       "        vertical-align: top;\n",
       "    }\n",
       "\n",
       "    .dataframe thead th {\n",
       "        text-align: right;\n",
       "    }\n",
       "</style>\n",
       "<table border=\"1\" class=\"dataframe\">\n",
       "  <thead>\n",
       "    <tr style=\"text-align: right;\">\n",
       "      <th></th>\n",
       "      <th>wheelbase</th>\n",
       "      <th>carlength</th>\n",
       "      <th>carwidth</th>\n",
       "      <th>carheight</th>\n",
       "      <th>curbweight</th>\n",
       "      <th>enginesize</th>\n",
       "      <th>boreratio</th>\n",
       "      <th>stroke</th>\n",
       "      <th>compressionratio</th>\n",
       "      <th>horsepower</th>\n",
       "      <th>...</th>\n",
       "      <th>cylindernumber_three</th>\n",
       "      <th>cylindernumber_twelve</th>\n",
       "      <th>cylindernumber_two</th>\n",
       "      <th>fuelsystem_1bbl</th>\n",
       "      <th>fuelsystem_2bbl</th>\n",
       "      <th>fuelsystem_4bbl</th>\n",
       "      <th>fuelsystem_idi</th>\n",
       "      <th>fuelsystem_mfi</th>\n",
       "      <th>fuelsystem_mpfi</th>\n",
       "      <th>fuelsystem_spdi</th>\n",
       "    </tr>\n",
       "  </thead>\n",
       "  <tbody>\n",
       "    <tr>\n",
       "      <th>0</th>\n",
       "      <td>104.3</td>\n",
       "      <td>188.8</td>\n",
       "      <td>67.2</td>\n",
       "      <td>56.2</td>\n",
       "      <td>2403.0</td>\n",
       "      <td>141.0</td>\n",
       "      <td>3.31</td>\n",
       "      <td>3.15</td>\n",
       "      <td>9.5</td>\n",
       "      <td>114.0</td>\n",
       "      <td>...</td>\n",
       "      <td>0</td>\n",
       "      <td>0</td>\n",
       "      <td>0</td>\n",
       "      <td>0</td>\n",
       "      <td>0</td>\n",
       "      <td>0</td>\n",
       "      <td>0</td>\n",
       "      <td>0</td>\n",
       "      <td>1</td>\n",
       "      <td>0</td>\n",
       "    </tr>\n",
       "    <tr>\n",
       "      <th>1</th>\n",
       "      <td>94.5</td>\n",
       "      <td>170.2</td>\n",
       "      <td>63.8</td>\n",
       "      <td>53.5</td>\n",
       "      <td>2024.0</td>\n",
       "      <td>97.0</td>\n",
       "      <td>3.15</td>\n",
       "      <td>3.29</td>\n",
       "      <td>9.4</td>\n",
       "      <td>69.0</td>\n",
       "      <td>...</td>\n",
       "      <td>0</td>\n",
       "      <td>0</td>\n",
       "      <td>0</td>\n",
       "      <td>0</td>\n",
       "      <td>1</td>\n",
       "      <td>0</td>\n",
       "      <td>0</td>\n",
       "      <td>0</td>\n",
       "      <td>0</td>\n",
       "      <td>0</td>\n",
       "    </tr>\n",
       "  </tbody>\n",
       "</table>\n",
       "<p>2 rows × 49 columns</p>\n",
       "</div>"
      ],
      "text/plain": [
       "   wheelbase  carlength  carwidth  carheight  curbweight  enginesize  \\\n",
       "0      104.3      188.8      67.2       56.2      2403.0       141.0   \n",
       "1       94.5      170.2      63.8       53.5      2024.0        97.0   \n",
       "\n",
       "   boreratio  stroke  compressionratio  horsepower  ...  cylindernumber_three  \\\n",
       "0       3.31    3.15               9.5       114.0  ...                     0   \n",
       "1       3.15    3.29               9.4        69.0  ...                     0   \n",
       "\n",
       "   cylindernumber_twelve  cylindernumber_two  fuelsystem_1bbl  \\\n",
       "0                      0                   0                0   \n",
       "1                      0                   0                0   \n",
       "\n",
       "   fuelsystem_2bbl  fuelsystem_4bbl  fuelsystem_idi  fuelsystem_mfi  \\\n",
       "0                0                0               0               0   \n",
       "1                1                0               0               0   \n",
       "\n",
       "   fuelsystem_mpfi  fuelsystem_spdi  \n",
       "0                1                0  \n",
       "1                0                0  \n",
       "\n",
       "[2 rows x 49 columns]"
      ]
     },
     "execution_count": 16,
     "metadata": {},
     "output_type": "execute_result"
    }
   ],
   "source": [
    "# perform one hot encoding on these categorical data and modify train_x_b and save it as train_x_d\n",
    "# we can use dummies method in python\n",
    "train_x_d = pd.get_dummies(train_x_b, columns = categorical_columns)\n",
    "train_x_d.head(2)"
   ]
  },
  {
   "cell_type": "markdown",
   "metadata": {},
   "source": [
    "### part e"
   ]
  },
  {
   "cell_type": "code",
   "execution_count": 17,
   "metadata": {},
   "outputs": [],
   "source": [
    "# scale all data \n",
    "from sklearn import preprocessing\n",
    "from sklearn.preprocessing import StandardScaler"
   ]
  },
  {
   "cell_type": "code",
   "execution_count": 18,
   "metadata": {},
   "outputs": [
    {
     "data": {
      "text/plain": [
       "array([[104.3, 188.8,  67.2, ...,   0. ,   1. ,   0. ],\n",
       "       [ 94.5, 170.2,  63.8, ...,   0. ,   0. ,   0. ],\n",
       "       [ 94.5, 165.3,  63.8, ...,   0. ,   0. ,   0. ],\n",
       "       ...,\n",
       "       [ 93.7, 157.3,  63.8, ...,   0. ,   0. ,   0. ],\n",
       "       [ 93.7, 156.9,  63.4, ...,   0. ,   0. ,   0. ],\n",
       "       [ 95.7, 169.7,  63.6, ...,   0. ,   0. ,   0. ]])"
      ]
     },
     "execution_count": 18,
     "metadata": {},
     "output_type": "execute_result"
    }
   ],
   "source": [
    "# input of StandardScaler is an array\n",
    "train_x_e = train_x_d.to_numpy()\n",
    "train_x_e"
   ]
  },
  {
   "cell_type": "code",
   "execution_count": 19,
   "metadata": {},
   "outputs": [],
   "source": [
    "scaler = preprocessing.StandardScaler().fit(train_x_e)"
   ]
  },
  {
   "cell_type": "code",
   "execution_count": 20,
   "metadata": {},
   "outputs": [],
   "source": [
    "scaled = scaler.transform(train_x_e)"
   ]
  },
  {
   "cell_type": "code",
   "execution_count": 21,
   "metadata": {},
   "outputs": [
    {
     "data": {
      "text/plain": [
       "array([ 1.30648180e-15,  2.63588434e-16, -2.62442398e-15,  1.77635684e-16,\n",
       "        2.29207334e-16,  1.31794217e-16, -1.78208702e-15, -1.05721883e-15,\n",
       "        2.52128068e-16, -2.17746967e-16,  4.41224118e-16, -1.03143300e-16,\n",
       "        1.14603667e-16, -2.29207334e-17,  4.01112835e-17,  5.73018335e-17,\n",
       "       -5.73018335e-17,  1.03143300e-16, -1.03143300e-16,  5.73018335e-18,\n",
       "        1.14603667e-17, -5.15716502e-17,  3.00834626e-17, -7.16272919e-18,\n",
       "       -3.43811001e-17, -9.02503878e-17, -7.44923836e-17,  1.83365867e-16,\n",
       "        5.73018335e-18,  3.43811001e-17, -2.86509168e-17,  5.73018335e-18,\n",
       "        4.58414668e-17,  1.14603667e-17, -1.64742771e-17, -4.87065585e-17,\n",
       "       -2.29207334e-17,  6.01669252e-17, -1.21766396e-17,  1.71905501e-17,\n",
       "        5.73018335e-18, -1.64742771e-17, -3.43811001e-17,  5.15716502e-17,\n",
       "       -1.64742771e-17, -2.29207334e-17,  1.71905501e-17,  3.72461918e-17,\n",
       "       -2.29207334e-17])"
      ]
     },
     "execution_count": 21,
     "metadata": {},
     "output_type": "execute_result"
    }
   ],
   "source": [
    "# scaled data has zero mean and the following values 1.3e-15 is close to zero, so this is accurate\n",
    "scaled.mean(axis=0)"
   ]
  },
  {
   "cell_type": "code",
   "execution_count": 22,
   "metadata": {
    "scrolled": true
   },
   "outputs": [
    {
     "data": {
      "text/plain": [
       "array([1., 1., 1., 1., 1., 1., 1., 1., 1., 1., 1., 1., 1., 1., 1., 1., 1.,\n",
       "       1., 1., 1., 1., 1., 1., 1., 1., 1., 1., 1., 1., 1., 1., 1., 1., 1.,\n",
       "       1., 1., 1., 1., 1., 1., 1., 1., 1., 1., 1., 1., 1., 1., 1.])"
      ]
     },
     "execution_count": 22,
     "metadata": {},
     "output_type": "execute_result"
    }
   ],
   "source": [
    "# scaled data has unit variance\n",
    "scaled.std(axis=0)"
   ]
  },
  {
   "cell_type": "code",
   "execution_count": 23,
   "metadata": {},
   "outputs": [],
   "source": [
    "# convert the numpy array to dataframe that has index and columns of original data\n",
    "train_x_e = pd.DataFrame(scaled, index=train_x_d.index, columns=train_x_d.columns)"
   ]
  },
  {
   "cell_type": "code",
   "execution_count": 24,
   "metadata": {
    "scrolled": true
   },
   "outputs": [
    {
     "data": {
      "text/html": [
       "<div>\n",
       "<style scoped>\n",
       "    .dataframe tbody tr th:only-of-type {\n",
       "        vertical-align: middle;\n",
       "    }\n",
       "\n",
       "    .dataframe tbody tr th {\n",
       "        vertical-align: top;\n",
       "    }\n",
       "\n",
       "    .dataframe thead th {\n",
       "        text-align: right;\n",
       "    }\n",
       "</style>\n",
       "<table border=\"1\" class=\"dataframe\">\n",
       "  <thead>\n",
       "    <tr style=\"text-align: right;\">\n",
       "      <th></th>\n",
       "      <th>wheelbase</th>\n",
       "      <th>carlength</th>\n",
       "      <th>carwidth</th>\n",
       "      <th>carheight</th>\n",
       "      <th>curbweight</th>\n",
       "      <th>enginesize</th>\n",
       "      <th>boreratio</th>\n",
       "      <th>stroke</th>\n",
       "      <th>compressionratio</th>\n",
       "      <th>horsepower</th>\n",
       "      <th>...</th>\n",
       "      <th>cylindernumber_three</th>\n",
       "      <th>cylindernumber_twelve</th>\n",
       "      <th>cylindernumber_two</th>\n",
       "      <th>fuelsystem_1bbl</th>\n",
       "      <th>fuelsystem_2bbl</th>\n",
       "      <th>fuelsystem_4bbl</th>\n",
       "      <th>fuelsystem_idi</th>\n",
       "      <th>fuelsystem_mfi</th>\n",
       "      <th>fuelsystem_mpfi</th>\n",
       "      <th>fuelsystem_spdi</th>\n",
       "    </tr>\n",
       "  </thead>\n",
       "  <tbody>\n",
       "    <tr>\n",
       "      <th>0</th>\n",
       "      <td>1.040486</td>\n",
       "      <td>1.218356</td>\n",
       "      <td>0.697865</td>\n",
       "      <td>1.103479</td>\n",
       "      <td>-0.217359</td>\n",
       "      <td>0.427546</td>\n",
       "      <td>-0.000506</td>\n",
       "      <td>-0.298040</td>\n",
       "      <td>-0.115772</td>\n",
       "      <td>0.312992</td>\n",
       "      <td>...</td>\n",
       "      <td>-0.080582</td>\n",
       "      <td>-0.080582</td>\n",
       "      <td>-0.114332</td>\n",
       "      <td>-0.248282</td>\n",
       "      <td>-0.720838</td>\n",
       "      <td>-0.114332</td>\n",
       "      <td>-0.315104</td>\n",
       "      <td>-0.080582</td>\n",
       "      <td>1.146051</td>\n",
       "      <td>-0.248282</td>\n",
       "    </tr>\n",
       "    <tr>\n",
       "      <th>1</th>\n",
       "      <td>-0.729389</td>\n",
       "      <td>-0.266100</td>\n",
       "      <td>-1.003614</td>\n",
       "      <td>-0.089818</td>\n",
       "      <td>-0.968641</td>\n",
       "      <td>-0.679464</td>\n",
       "      <td>-0.628165</td>\n",
       "      <td>0.134277</td>\n",
       "      <td>-0.142667</td>\n",
       "      <td>-0.909358</td>\n",
       "      <td>...</td>\n",
       "      <td>-0.080582</td>\n",
       "      <td>-0.080582</td>\n",
       "      <td>-0.114332</td>\n",
       "      <td>-0.248282</td>\n",
       "      <td>1.387274</td>\n",
       "      <td>-0.114332</td>\n",
       "      <td>-0.315104</td>\n",
       "      <td>-0.080582</td>\n",
       "      <td>-0.872562</td>\n",
       "      <td>-0.248282</td>\n",
       "    </tr>\n",
       "  </tbody>\n",
       "</table>\n",
       "<p>2 rows × 49 columns</p>\n",
       "</div>"
      ],
      "text/plain": [
       "   wheelbase  carlength  carwidth  carheight  curbweight  enginesize  \\\n",
       "0   1.040486   1.218356  0.697865   1.103479   -0.217359    0.427546   \n",
       "1  -0.729389  -0.266100 -1.003614  -0.089818   -0.968641   -0.679464   \n",
       "\n",
       "   boreratio    stroke  compressionratio  horsepower  ...  \\\n",
       "0  -0.000506 -0.298040         -0.115772    0.312992  ...   \n",
       "1  -0.628165  0.134277         -0.142667   -0.909358  ...   \n",
       "\n",
       "   cylindernumber_three  cylindernumber_twelve  cylindernumber_two  \\\n",
       "0             -0.080582              -0.080582           -0.114332   \n",
       "1             -0.080582              -0.080582           -0.114332   \n",
       "\n",
       "   fuelsystem_1bbl  fuelsystem_2bbl  fuelsystem_4bbl  fuelsystem_idi  \\\n",
       "0        -0.248282        -0.720838        -0.114332       -0.315104   \n",
       "1        -0.248282         1.387274        -0.114332       -0.315104   \n",
       "\n",
       "   fuelsystem_mfi  fuelsystem_mpfi  fuelsystem_spdi  \n",
       "0       -0.080582         1.146051        -0.248282  \n",
       "1       -0.080582        -0.872562        -0.248282  \n",
       "\n",
       "[2 rows x 49 columns]"
      ]
     },
     "execution_count": 24,
     "metadata": {},
     "output_type": "execute_result"
    }
   ],
   "source": [
    "train_x_e.head(2)"
   ]
  },
  {
   "cell_type": "markdown",
   "metadata": {},
   "source": [
    "## Data Exploration"
   ]
  },
  {
   "cell_type": "markdown",
   "metadata": {},
   "source": [
    "### part f"
   ]
  },
  {
   "cell_type": "code",
   "execution_count": 25,
   "metadata": {
    "scrolled": false
   },
   "outputs": [
    {
     "data": {
      "image/png": "[encoded data removed]",
      "text/plain": [
       "<Figure size 1440x1440 with 49 Axes>"
      ]
     },
     "metadata": {
      "needs_background": "light"
     },
     "output_type": "display_data"
    }
   ],
   "source": [
    "# plot histogram of all variables\n",
    "\n",
    "import matplotlib.pyplot as plt\n",
    "train_x_e.hist(figsize=(20,20))\n",
    "plt.show()\n",
    "\n",
    "# continous variables are equally distributed around mean of 0, since they are scaled using standard scaler \n",
    "# categorical variables have 2 bars, because they are one hot encoded with 0 or 1, so we should focus on positive\n",
    "#     values because they show the frequency of the existance of particular feature. Am I right? "
   ]
  },
  {
   "cell_type": "markdown",
   "metadata": {},
   "source": [
    "### part g"
   ]
  },
  {
   "cell_type": "code",
   "execution_count": 26,
   "metadata": {
    "scrolled": true
   },
   "outputs": [
    {
     "data": {
      "text/plain": [
       "enginesize    0.873041\n",
       "curbweight    0.825639\n",
       "horsepower    0.799281\n",
       "carwidth      0.726373\n",
       "carlength     0.707716\n",
       "dtype: float64"
      ]
     },
     "execution_count": 26,
     "metadata": {},
     "output_type": "execute_result"
    }
   ],
   "source": [
    "# correlation between all continuous variables and price, list top 5 correlations\n",
    "# use train_x_b by definition the correlation coefficient is independent of scale so no need to standardize\n",
    "\n",
    "top_5_corr = train_x_b.corrwith(train_y).sort_values(ascending=False).head(5)\n",
    "top_5_corr"
   ]
  },
  {
   "cell_type": "code",
   "execution_count": 27,
   "metadata": {},
   "outputs": [],
   "source": [
    "top_5_corr = ['enginesize','curbweight','horsepower','carwidth','carlength']"
   ]
  },
  {
   "cell_type": "code",
   "execution_count": 28,
   "metadata": {},
   "outputs": [
    {
     "name": "stdout",
     "output_type": "stream",
     "text": [
      "['enginesize', 'curbweight', 'horsepower', 'carwidth', 'carlength']\n"
     ]
    }
   ],
   "source": [
    "print(top_5_corr)"
   ]
  },
  {
   "cell_type": "markdown",
   "metadata": {},
   "source": [
    "### part h"
   ]
  },
  {
   "cell_type": "code",
   "execution_count": 29,
   "metadata": {
    "scrolled": true
   },
   "outputs": [],
   "source": [
    "# 5*5 plot of these top 5 correlated variables \n",
    "# create a dataframe of the top_5_corr variables\n",
    "top_5_corr = train_x_b[['enginesize','curbweight','horsepower','carwidth','carlength']]"
   ]
  },
  {
   "cell_type": "code",
   "execution_count": 30,
   "metadata": {},
   "outputs": [
    {
     "data": {
      "image/png": "[encoded data removed]",
      "text/plain": [
       "<Figure size 504x504 with 30 Axes>"
      ]
     },
     "metadata": {
      "needs_background": "light"
     },
     "output_type": "display_data"
    }
   ],
   "source": [
    "import seaborn as sns\n",
    "scatter = sns.pairplot(top_5_corr)\n",
    "scatter.fig.set_size_inches(7,7)"
   ]
  },
  {
   "cell_type": "markdown",
   "metadata": {},
   "source": [
    "## LINEAR REGRESSION TO PREDICT CAR PRICES"
   ]
  },
  {
   "cell_type": "markdown",
   "metadata": {},
   "source": [
    "### part i (Linear Regression for train data)"
   ]
  },
  {
   "cell_type": "code",
   "execution_count": 116,
   "metadata": {
    "scrolled": true
   },
   "outputs": [],
   "source": [
    "# create lr model with default parameters and train on train_x_e and train_y\n",
    "\n",
    "from sklearn import linear_model\n",
    "\n",
    "regressor = linear_model.LinearRegression() # create linear regression object \n",
    "lr_model_train = regressor.fit(train_x_e, train_y) # instantiate it using fit() where it determines best fit line"
   ]
  },
  {
   "cell_type": "code",
   "execution_count": 122,
   "metadata": {},
   "outputs": [
    {
     "name": "stdout",
     "output_type": "stream",
     "text": [
      "Train MSE: 4293452.590313228\n"
     ]
    }
   ],
   "source": [
    "# Print the Mean Square Error (MSE) for training data \n",
    "\n",
    "from sklearn.metrics import mean_squared_error\n",
    "pred_train = lr_model_train.predict(train_x_e) # predict the 'y' or the 'price' for all train data\n",
    "lr_train_mse = mean_squared_error(train_y, pred_train) # calculate mse or avg error between pred and actual prices\n",
    "print(\"Train MSE:\", lr_train_mse) # diff btw org, pred values by square avg diff over all data"
   ]
  },
  {
   "cell_type": "code",
   "execution_count": 125,
   "metadata": {
    "scrolled": true
   },
   "outputs": [
    {
     "name": "stdout",
     "output_type": "stream",
     "text": [
      "RMSE of linear regression: 2072.0648132510787\n"
     ]
    }
   ],
   "source": [
    "import numpy as np\n",
    "lr_train_rmse = np.sqrt(lr_train_mse) # rmse is more intuitive to interpret and is squre root of mse \n",
    "print(\"RMSE of linear regression:\", lr_train_rmse) \n",
    "\n",
    "# error in estimating car prices is 2072 which is not bad. Prices are 5000-45000, avg is 13000"
   ]
  },
  {
   "cell_type": "code",
   "execution_count": 124,
   "metadata": {
    "scrolled": true
   },
   "outputs": [
    {
     "name": "stdout",
     "output_type": "stream",
     "text": [
      "Mean of train_y: 12915.859141935483\n",
      "Min of train_y: 5118.0\n",
      "Max of train_y: 45400.0\n"
     ]
    }
   ],
   "source": [
    "print(\"Mean of train_y:\", train_y.mean())\n",
    "print(\"Min of train_y:\", train_y.min())\n",
    "print(\"Max of train_y:\", train_y.max())"
   ]
  },
  {
   "cell_type": "markdown",
   "metadata": {},
   "source": [
    "### part j (5-Fold Cross Validation of train data)"
   ]
  },
  {
   "cell_type": "code",
   "execution_count": 35,
   "metadata": {},
   "outputs": [
    {
     "name": "stdout",
     "output_type": "stream",
     "text": [
      "[-10057504.2822657   -6941861.46536291  -8010686.21848619\n",
      " -11491802.34766707  -6098813.96464963]\n"
     ]
    }
   ],
   "source": [
    "# Perform 5-fold cross validation with training data and print MSE score for each fold \n",
    "from sklearn.model_selection import cross_val_score\n",
    "train_mse_score = cross_val_score(regressor, train_x_e, train_y, scoring=\"neg_mean_squared_error\", cv=5)\n",
    "print(train_mse_score)"
   ]
  },
  {
   "cell_type": "code",
   "execution_count": 36,
   "metadata": {},
   "outputs": [
    {
     "name": "stdout",
     "output_type": "stream",
     "text": [
      "Train MSE of 5-fold cv: [10057504.2822657   6941861.46536291  8010686.21848619 11491802.34766707\n",
      "  6098813.96464963]\n"
     ]
    }
   ],
   "source": [
    "# Absolute values of the MSE \n",
    "print(\"Train MSE of 5-fold cv:\", -train_mse_score) \n",
    "\n",
    "# sklearn cross-validation features expect a utility function rather than a cost function,\n",
    "# so the scoring is opposite of MSE, and is a negative value, so we need to get absolute values for them"
   ]
  },
  {
   "cell_type": "code",
   "execution_count": 37,
   "metadata": {},
   "outputs": [
    {
     "name": "stdout",
     "output_type": "stream",
     "text": [
      "Mean MSE of 5-fold cv: 8520133.6556863\n"
     ]
    }
   ],
   "source": [
    "# Print average (mean) of the 5-fold cv\n",
    "five_fold_mse = (abs(train_mse_score.mean()))\n",
    "print(\"Mean MSE of 5-fold cv:\", five_fold_mse)"
   ]
  },
  {
   "cell_type": "code",
   "execution_count": 38,
   "metadata": {
    "scrolled": true
   },
   "outputs": [
    {
     "name": "stdout",
     "output_type": "stream",
     "text": [
      "RMSE of 5-fold cv: 2918.9267986173104\n"
     ]
    }
   ],
   "source": [
    "cv_rmse = np.sqrt(five_fold_mse)\n",
    "print(\"RMSE of 5-fold cv:\", cv_rmse)"
   ]
  },
  {
   "cell_type": "markdown",
   "metadata": {},
   "source": [
    "### part k (Prepare test data)"
   ]
  },
  {
   "cell_type": "code",
   "execution_count": 39,
   "metadata": {
    "scrolled": true
   },
   "outputs": [],
   "source": [
    "# Select test_y with no missing values\n",
    "test = pd.read_csv(\"test.csv\")\n",
    "test_new = test[test['price'].notna()]"
   ]
  },
  {
   "cell_type": "code",
   "execution_count": 40,
   "metadata": {},
   "outputs": [],
   "source": [
    "# Split the data into x and y\n",
    "test_x = test_new.iloc[:, 0:22]\n",
    "test_y = test_new[\"price\"]"
   ]
  },
  {
   "cell_type": "code",
   "execution_count": 41,
   "metadata": {
    "scrolled": true
   },
   "outputs": [],
   "source": [
    "# Fill missing values in test_x with median value\n",
    "test_x_a = test_x.fillna(test_x.median())"
   ]
  },
  {
   "cell_type": "code",
   "execution_count": 42,
   "metadata": {},
   "outputs": [
    {
     "data": {
      "text/plain": [
       "Index(['fueltype', 'aspiration', 'doornumber', 'carbody', 'drivewheel',\n",
       "       'enginelocation', 'enginetype', 'cylindernumber', 'fuelsystem'],\n",
       "      dtype='object')"
      ]
     },
     "execution_count": 42,
     "metadata": {},
     "output_type": "execute_result"
    }
   ],
   "source": [
    "# List the categorical columns\n",
    "test_x_a.select_dtypes(\"object\").columns"
   ]
  },
  {
   "cell_type": "code",
   "execution_count": 43,
   "metadata": {},
   "outputs": [],
   "source": [
    "# Turn the categorical columns to a list\n",
    "categorical_columns_test = ['fueltype', 'aspiration', 'doornumber', 'carbody', 'drivewheel',\n",
    "       'enginelocation', 'enginetype', 'cylindernumber', 'fuelsystem']"
   ]
  },
  {
   "cell_type": "code",
   "execution_count": 66,
   "metadata": {
    "scrolled": true
   },
   "outputs": [],
   "source": [
    "# One Hot Encode categorical columns\n",
    "test_x_b = pd.get_dummies(test_x_a, columns = categorical_columns_test)"
   ]
  },
  {
   "cell_type": "code",
   "execution_count": 45,
   "metadata": {},
   "outputs": [],
   "source": [
    "# Standard Scale\n",
    "test_x_c = test_x_b.to_numpy()"
   ]
  },
  {
   "cell_type": "code",
   "execution_count": 46,
   "metadata": {},
   "outputs": [],
   "source": [
    "scaler_test = preprocessing.StandardScaler().fit(test_x_c)\n",
    "scaled_test = scaler_test.transform(test_x_c)"
   ]
  },
  {
   "cell_type": "code",
   "execution_count": 47,
   "metadata": {
    "scrolled": true
   },
   "outputs": [],
   "source": [
    "# convert the numpy array to dataframe that has index and columns of original data\n",
    "test_x_d = pd.DataFrame(scaled_test, index=test_x_b.index, columns=test_x_b.columns)"
   ]
  },
  {
   "cell_type": "code",
   "execution_count": 48,
   "metadata": {},
   "outputs": [],
   "source": [
    "test_x = test_x_d"
   ]
  },
  {
   "cell_type": "code",
   "execution_count": 350,
   "metadata": {
    "scrolled": true
   },
   "outputs": [
    {
     "data": {
      "text/html": [
       "<div>\n",
       "<style scoped>\n",
       "    .dataframe tbody tr th:only-of-type {\n",
       "        vertical-align: middle;\n",
       "    }\n",
       "\n",
       "    .dataframe tbody tr th {\n",
       "        vertical-align: top;\n",
       "    }\n",
       "\n",
       "    .dataframe thead th {\n",
       "        text-align: right;\n",
       "    }\n",
       "</style>\n",
       "<table border=\"1\" class=\"dataframe\">\n",
       "  <thead>\n",
       "    <tr style=\"text-align: right;\">\n",
       "      <th></th>\n",
       "      <th>wheelbase</th>\n",
       "      <th>carlength</th>\n",
       "      <th>carwidth</th>\n",
       "      <th>carheight</th>\n",
       "      <th>curbweight</th>\n",
       "      <th>enginesize</th>\n",
       "      <th>boreratio</th>\n",
       "      <th>stroke</th>\n",
       "      <th>compressionratio</th>\n",
       "      <th>horsepower</th>\n",
       "      <th>...</th>\n",
       "      <th>cylindernumber_three</th>\n",
       "      <th>cylindernumber_twelve</th>\n",
       "      <th>cylindernumber_two</th>\n",
       "      <th>fuelsystem_1bbl</th>\n",
       "      <th>fuelsystem_2bbl</th>\n",
       "      <th>fuelsystem_4bbl</th>\n",
       "      <th>fuelsystem_idi</th>\n",
       "      <th>fuelsystem_mfi</th>\n",
       "      <th>fuelsystem_mpfi</th>\n",
       "      <th>fuelsystem_spdi</th>\n",
       "    </tr>\n",
       "  </thead>\n",
       "  <tbody>\n",
       "    <tr>\n",
       "      <th>0</th>\n",
       "      <td>0.932810</td>\n",
       "      <td>1.326619</td>\n",
       "      <td>2.076961</td>\n",
       "      <td>0.566013</td>\n",
       "      <td>0.430246</td>\n",
       "      <td>-0.042623</td>\n",
       "      <td>-0.712848</td>\n",
       "      <td>0.347447</td>\n",
       "      <td>-0.498378</td>\n",
       "      <td>0.047788</td>\n",
       "      <td>...</td>\n",
       "      <td>-0.229416</td>\n",
       "      <td>-0.229416</td>\n",
       "      <td>-0.229416</td>\n",
       "      <td>-0.229416</td>\n",
       "      <td>-0.460566</td>\n",
       "      <td>-0.160128</td>\n",
       "      <td>-0.377964</td>\n",
       "      <td>-0.229416</td>\n",
       "      <td>0.951190</td>\n",
       "      <td>-0.229416</td>\n",
       "    </tr>\n",
       "    <tr>\n",
       "      <th>1</th>\n",
       "      <td>-0.517275</td>\n",
       "      <td>-0.097773</td>\n",
       "      <td>-1.500195</td>\n",
       "      <td>-0.092620</td>\n",
       "      <td>-0.701135</td>\n",
       "      <td>-0.583212</td>\n",
       "      <td>-0.859073</td>\n",
       "      <td>0.987246</td>\n",
       "      <td>-0.379717</td>\n",
       "      <td>-0.479532</td>\n",
       "      <td>...</td>\n",
       "      <td>-0.229416</td>\n",
       "      <td>-0.229416</td>\n",
       "      <td>-0.229416</td>\n",
       "      <td>4.358899</td>\n",
       "      <td>-0.460566</td>\n",
       "      <td>-0.160128</td>\n",
       "      <td>-0.377964</td>\n",
       "      <td>-0.229416</td>\n",
       "      <td>-1.051315</td>\n",
       "      <td>-0.229416</td>\n",
       "    </tr>\n",
       "  </tbody>\n",
       "</table>\n",
       "<p>2 rows × 49 columns</p>\n",
       "</div>"
      ],
      "text/plain": [
       "   wheelbase  carlength  carwidth  carheight  curbweight  enginesize  \\\n",
       "0   0.932810   1.326619  2.076961   0.566013    0.430246   -0.042623   \n",
       "1  -0.517275  -0.097773 -1.500195  -0.092620   -0.701135   -0.583212   \n",
       "\n",
       "   boreratio    stroke  compressionratio  horsepower  ...  \\\n",
       "0  -0.712848  0.347447         -0.498378    0.047788  ...   \n",
       "1  -0.859073  0.987246         -0.379717   -0.479532  ...   \n",
       "\n",
       "   cylindernumber_three  cylindernumber_twelve  cylindernumber_two  \\\n",
       "0             -0.229416              -0.229416           -0.229416   \n",
       "1             -0.229416              -0.229416           -0.229416   \n",
       "\n",
       "   fuelsystem_1bbl  fuelsystem_2bbl  fuelsystem_4bbl  fuelsystem_idi  \\\n",
       "0        -0.229416        -0.460566        -0.160128       -0.377964   \n",
       "1         4.358899        -0.460566        -0.160128       -0.377964   \n",
       "\n",
       "   fuelsystem_mfi  fuelsystem_mpfi  fuelsystem_spdi  \n",
       "0       -0.229416         0.951190        -0.229416  \n",
       "1       -0.229416        -1.051315        -0.229416  \n",
       "\n",
       "[2 rows x 49 columns]"
      ]
     },
     "execution_count": 350,
     "metadata": {},
     "output_type": "execute_result"
    }
   ],
   "source": [
    "test_x.head(2)"
   ]
  },
  {
   "cell_type": "code",
   "execution_count": 346,
   "metadata": {},
   "outputs": [],
   "source": [
    "test_y = test_y.to_frame()"
   ]
  },
  {
   "cell_type": "code",
   "execution_count": 351,
   "metadata": {
    "scrolled": true
   },
   "outputs": [
    {
     "data": {
      "text/html": [
       "<div>\n",
       "<style scoped>\n",
       "    .dataframe tbody tr th:only-of-type {\n",
       "        vertical-align: middle;\n",
       "    }\n",
       "\n",
       "    .dataframe tbody tr th {\n",
       "        vertical-align: top;\n",
       "    }\n",
       "\n",
       "    .dataframe thead th {\n",
       "        text-align: right;\n",
       "    }\n",
       "</style>\n",
       "<table border=\"1\" class=\"dataframe\">\n",
       "  <thead>\n",
       "    <tr style=\"text-align: right;\">\n",
       "      <th></th>\n",
       "      <th>price</th>\n",
       "    </tr>\n",
       "  </thead>\n",
       "  <tbody>\n",
       "    <tr>\n",
       "      <th>0</th>\n",
       "      <td>18920.0</td>\n",
       "    </tr>\n",
       "    <tr>\n",
       "      <th>1</th>\n",
       "      <td>10295.0</td>\n",
       "    </tr>\n",
       "  </tbody>\n",
       "</table>\n",
       "</div>"
      ],
      "text/plain": [
       "     price\n",
       "0  18920.0\n",
       "1  10295.0"
      ]
     },
     "execution_count": 351,
     "metadata": {},
     "output_type": "execute_result"
    }
   ],
   "source": [
    "test_y.head(2)"
   ]
  },
  {
   "cell_type": "markdown",
   "metadata": {},
   "source": [
    "### part l (Linear regression of test data)"
   ]
  },
  {
   "cell_type": "code",
   "execution_count": 348,
   "metadata": {},
   "outputs": [],
   "source": [
    "regressor = linear_model.LinearRegression() # create linear regression object \n",
    "lr_model_test = regressor.fit(test_x, test_y)"
   ]
  },
  {
   "cell_type": "code",
   "execution_count": 349,
   "metadata": {},
   "outputs": [
    {
     "name": "stdout",
     "output_type": "stream",
     "text": [
      "Test MSE: 24909.630851678685\n"
     ]
    }
   ],
   "source": [
    "predicted_values = lr_model_test.predict(test_x)\n",
    "lr_test_mse = mean_squared_error(test_y, predicted_values)\n",
    "print(\"Test MSE:\", lr_test_mse)"
   ]
  },
  {
   "cell_type": "code",
   "execution_count": 127,
   "metadata": {},
   "outputs": [
    {
     "name": "stdout",
     "output_type": "stream",
     "text": [
      "Mean of test_y: 15214.4375\n",
      "Min of test_y: 5348.0\n",
      "Max of test_y: 40960.0\n"
     ]
    }
   ],
   "source": [
    "print(\"Mean of test_y:\", test_y.mean())\n",
    "print(\"Min of test_y:\", test_y.min())\n",
    "print(\"Max of test_y:\", test_y.max())"
   ]
  },
  {
   "cell_type": "code",
   "execution_count": 128,
   "metadata": {},
   "outputs": [
    {
     "name": "stdout",
     "output_type": "stream",
     "text": [
      "RMSE of linear regression: 157.82785195167133\n"
     ]
    }
   ],
   "source": [
    "test_rmse = np.sqrt(lr_test_mse) # rmse is more intuitive to interpret and is squre root of mse \n",
    "print(\"RMSE of linear regression:\", test_rmse) \n",
    "\n",
    "#it outputs a much smaller value than in train data, why?"
   ]
  },
  {
   "cell_type": "code",
   "execution_count": 129,
   "metadata": {},
   "outputs": [
    {
     "name": "stdout",
     "output_type": "stream",
     "text": [
      "Coefficients: \n",
      " [ 1.06386118e+03 -3.86475802e+03  4.67667650e+03 -2.77211677e+03\n",
      "  1.74278839e+03 -8.20727267e+03  4.22322256e+03 -4.74017019e+03\n",
      " -7.29569755e+04  5.04288124e+03  8.78938589e+02 -7.28268006e+03\n",
      " -1.06588420e+04  2.79149517e+04 -2.79149517e+04  4.35258014e+03\n",
      " -4.35258014e+03  1.82810480e+03 -1.82810480e+03  6.61556573e+03\n",
      "  2.53094020e+03 -4.81225245e+03  1.16742009e+03 -1.03522052e+03\n",
      " -2.84893067e+03  1.86212395e+03 -5.99986238e+02 -4.31030110e+03\n",
      "  4.31030110e+03  6.12284699e+02 -3.53990713e+03  9.28509311e+03\n",
      " -8.77714703e+03 -4.60724706e+03  9.95125114e+02  1.02529115e+04\n",
      " -7.60910370e+03 -2.31242471e+03  2.54878556e+03 -6.44531865e+01\n",
      "  1.45161063e+02  9.95125114e+02 -3.02756231e+03 -6.89194786e+02\n",
      " -4.33820167e+03  2.79149517e+04 -1.10635794e+04 -1.16151284e+04\n",
      "  2.65463238e+03]\n"
     ]
    }
   ],
   "source": [
    "# Print model's coefficients\n",
    "print('Coefficients: \\n', lr_model_y.coef_)\n",
    "\n",
    "# The sign of each coefficient indicates the direction of the relationship between a predictor variable and the response variable."
   ]
  },
  {
   "cell_type": "markdown",
   "metadata": {},
   "source": [
    "### part m (Linear regression using polynomial transformation of train data)"
   ]
  },
  {
   "cell_type": "code",
   "execution_count": 135,
   "metadata": {},
   "outputs": [
    {
     "data": {
      "text/plain": [
       "array([[ 1.0404856 ,  1.21835579,  0.69786455, ...,  1.31343284,\n",
       "        -0.28454356,  0.06164384],\n",
       "       [-0.72938856, -0.26610019, -1.00361413, ...,  0.76136364,\n",
       "         0.21664112,  0.06164384],\n",
       "       [-0.72938856, -0.65716655, -1.00361413, ...,  0.76136364,\n",
       "         0.21664112,  0.06164384],\n",
       "       ...,\n",
       "       [-0.87386808, -1.29564224, -1.00361413, ...,  0.76136364,\n",
       "         0.21664112,  0.06164384],\n",
       "       [-0.87386808, -1.32756602, -1.20378809, ...,  0.76136364,\n",
       "         0.21664112,  0.06164384],\n",
       "       [-0.51266928, -0.30600492, -1.10370111, ...,  0.76136364,\n",
       "         0.21664112,  0.06164384]])"
      ]
     },
     "execution_count": 135,
     "metadata": {},
     "output_type": "execute_result"
    }
   ],
   "source": [
    "# Run polynomial transformation with degree 2 on train_x_e\n",
    "# degree 2 adds square of each feature in the training data \n",
    "\n",
    "import numpy as np\n",
    "from sklearn.preprocessing import PolynomialFeatures\n",
    "\n",
    "poly_features = PolynomialFeatures(degree=2, include_bias=False)\n",
    "train_x_m = poly_features.fit_transform(train_x_e)\n",
    "train_x_m"
   ]
  },
  {
   "cell_type": "code",
   "execution_count": 352,
   "metadata": {},
   "outputs": [
    {
     "data": {
      "text/html": [
       "<div>\n",
       "<style scoped>\n",
       "    .dataframe tbody tr th:only-of-type {\n",
       "        vertical-align: middle;\n",
       "    }\n",
       "\n",
       "    .dataframe tbody tr th {\n",
       "        vertical-align: top;\n",
       "    }\n",
       "\n",
       "    .dataframe thead th {\n",
       "        text-align: right;\n",
       "    }\n",
       "</style>\n",
       "<table border=\"1\" class=\"dataframe\">\n",
       "  <thead>\n",
       "    <tr style=\"text-align: right;\">\n",
       "      <th></th>\n",
       "      <th>0</th>\n",
       "      <th>1</th>\n",
       "      <th>2</th>\n",
       "      <th>3</th>\n",
       "      <th>4</th>\n",
       "      <th>5</th>\n",
       "      <th>6</th>\n",
       "      <th>7</th>\n",
       "      <th>8</th>\n",
       "      <th>9</th>\n",
       "      <th>...</th>\n",
       "      <th>1264</th>\n",
       "      <th>1265</th>\n",
       "      <th>1266</th>\n",
       "      <th>1267</th>\n",
       "      <th>1268</th>\n",
       "      <th>1269</th>\n",
       "      <th>1270</th>\n",
       "      <th>1271</th>\n",
       "      <th>1272</th>\n",
       "      <th>1273</th>\n",
       "    </tr>\n",
       "  </thead>\n",
       "  <tbody>\n",
       "    <tr>\n",
       "      <th>0</th>\n",
       "      <td>1.040486</td>\n",
       "      <td>1.218356</td>\n",
       "      <td>0.697865</td>\n",
       "      <td>1.103479</td>\n",
       "      <td>-0.217359</td>\n",
       "      <td>0.427546</td>\n",
       "      <td>-0.000506</td>\n",
       "      <td>-0.298040</td>\n",
       "      <td>-0.115772</td>\n",
       "      <td>0.312992</td>\n",
       "      <td>...</td>\n",
       "      <td>0.099291</td>\n",
       "      <td>0.025392</td>\n",
       "      <td>-0.361126</td>\n",
       "      <td>0.078235</td>\n",
       "      <td>0.006494</td>\n",
       "      <td>-0.092351</td>\n",
       "      <td>0.020007</td>\n",
       "      <td>1.313433</td>\n",
       "      <td>-0.284544</td>\n",
       "      <td>0.061644</td>\n",
       "    </tr>\n",
       "    <tr>\n",
       "      <th>1</th>\n",
       "      <td>-0.729389</td>\n",
       "      <td>-0.266100</td>\n",
       "      <td>-1.003614</td>\n",
       "      <td>-0.089818</td>\n",
       "      <td>-0.968641</td>\n",
       "      <td>-0.679464</td>\n",
       "      <td>-0.628165</td>\n",
       "      <td>0.134277</td>\n",
       "      <td>-0.142667</td>\n",
       "      <td>-0.909358</td>\n",
       "      <td>...</td>\n",
       "      <td>0.099291</td>\n",
       "      <td>0.025392</td>\n",
       "      <td>0.274948</td>\n",
       "      <td>0.078235</td>\n",
       "      <td>0.006494</td>\n",
       "      <td>0.070313</td>\n",
       "      <td>0.020007</td>\n",
       "      <td>0.761364</td>\n",
       "      <td>0.216641</td>\n",
       "      <td>0.061644</td>\n",
       "    </tr>\n",
       "  </tbody>\n",
       "</table>\n",
       "<p>2 rows × 1274 columns</p>\n",
       "</div>"
      ],
      "text/plain": [
       "       0         1         2         3         4         5         6     \\\n",
       "0  1.040486  1.218356  0.697865  1.103479 -0.217359  0.427546 -0.000506   \n",
       "1 -0.729389 -0.266100 -1.003614 -0.089818 -0.968641 -0.679464 -0.628165   \n",
       "\n",
       "       7         8         9     ...      1264      1265      1266      1267  \\\n",
       "0 -0.298040 -0.115772  0.312992  ...  0.099291  0.025392 -0.361126  0.078235   \n",
       "1  0.134277 -0.142667 -0.909358  ...  0.099291  0.025392  0.274948  0.078235   \n",
       "\n",
       "       1268      1269      1270      1271      1272      1273  \n",
       "0  0.006494 -0.092351  0.020007  1.313433 -0.284544  0.061644  \n",
       "1  0.006494  0.070313  0.020007  0.761364  0.216641  0.061644  \n",
       "\n",
       "[2 rows x 1274 columns]"
      ]
     },
     "execution_count": 352,
     "metadata": {},
     "output_type": "execute_result"
    }
   ],
   "source": [
    "train_xm = pd.DataFrame(train_x_m)\n",
    "train_xm.head(2)"
   ]
  },
  {
   "cell_type": "code",
   "execution_count": 136,
   "metadata": {},
   "outputs": [],
   "source": [
    "# Linear regression model with default parameters \n",
    "regressor = linear_model.LinearRegression() \n",
    "lr_model_poly = regressor.fit(train_x_m, train_y) "
   ]
  },
  {
   "cell_type": "code",
   "execution_count": 137,
   "metadata": {},
   "outputs": [
    {
     "name": "stdout",
     "output_type": "stream",
     "text": [
      "[2.26735748e+07 1.97005506e+26 9.94362915e+27 3.11884505e+24\n",
      " 2.83649224e+21]\n"
     ]
    }
   ],
   "source": [
    "# Perform 5 fold cross validation using train_x_m and train_y\n",
    "train_poly_mse_score = cross_val_score(regressor, train_x_m, train_y, scoring=\"neg_mean_squared_error\", cv=5)\n",
    "print(abs(train_poly_mse_score))"
   ]
  },
  {
   "cell_type": "code",
   "execution_count": 138,
   "metadata": {},
   "outputs": [
    {
     "name": "stdout",
     "output_type": "stream",
     "text": [
      "2.0287512672376426e+27\n"
     ]
    }
   ],
   "source": [
    "# Print average (mean) of the 5-fold cv\n",
    "average_mse = (abs(train_poly_mse_score.mean()))\n",
    "print(average_mse)"
   ]
  },
  {
   "cell_type": "markdown",
   "metadata": {},
   "source": [
    "### part n (Lasso regularization model using train data)"
   ]
  },
  {
   "cell_type": "code",
   "execution_count": 224,
   "metadata": {},
   "outputs": [],
   "source": [
    "# With more features, model might be overfitting the data\n",
    "# Create lasso (L1) regularization model with default parameters \n",
    "\n",
    "import warnings\n",
    "warnings.filterwarnings(\"ignore\")\n",
    "\n",
    "from sklearn.linear_model import Lasso\n",
    "\n",
    "lasso_reg = Lasso(alpha=0.1)\n",
    "lasso_model = lasso_reg.fit(train_x_m, train_y)"
   ]
  },
  {
   "cell_type": "code",
   "execution_count": 228,
   "metadata": {
    "scrolled": true
   },
   "outputs": [
    {
     "name": "stdout",
     "output_type": "stream",
     "text": [
      "[-2.97631611e+09 -1.83756049e+09 -4.15060041e+07 -2.10381513e+08\n",
      " -3.23529187e+08]\n"
     ]
    }
   ],
   "source": [
    "# Perform 5-fold cv using training data and print average MSE score\n",
    "train_lasso = cross_val_score(lasso_reg, train_x_m, train_y, scoring=\"neg_mean_squared_error\", cv=5)\n",
    "print(train_lasso)"
   ]
  },
  {
   "cell_type": "code",
   "execution_count": 227,
   "metadata": {},
   "outputs": [
    {
     "name": "stdout",
     "output_type": "stream",
     "text": [
      "average_mse: 1077858660.6726432\n"
     ]
    }
   ],
   "source": [
    "average_mse = print(\"average_mse:\",-train_lasso.mean())"
   ]
  },
  {
   "cell_type": "markdown",
   "metadata": {},
   "source": [
    "### part o (Regularization curve)"
   ]
  },
  {
   "cell_type": "code",
   "execution_count": 366,
   "metadata": {},
   "outputs": [],
   "source": [
    "# for alpha values from 1 to 3000 with step size of 10, calculate all 5-fold cv scores\n",
    "\n",
    "for alpha in range(1,3000): \n",
    "    if alpha % 10 == 0:\n",
    "    #setting alpha to the value in the iteration\n",
    "        lasso_reg=Lasso(alpha=alpha)\n",
    "        lasso=lasso_reg.fit(train_x_m,train_y)\n",
    "        #cross validating with 5 fold \n",
    "        score = cross_val_score(lasso,train_x_m,train_y,scoring=\"neg_mean_squared_error\",cv=5)"
   ]
  },
  {
   "cell_type": "code",
   "execution_count": 384,
   "metadata": {},
   "outputs": [
    {
     "name": "stdout",
     "output_type": "stream",
     "text": [
      "[array([-34461753.20842633, -24654556.02709769,  -8905943.84452411,\n",
      "       -36236202.93402761, -36669928.87331968])]\n",
      "min error: -36669928.87331968\n",
      "min alpha: 2999\n"
     ]
    }
   ],
   "source": [
    "# store all alpha values and scores \n",
    "\n",
    "all_scores=[score]\n",
    "print(all_scores)\n",
    "alist = [alpha]\n",
    "\n",
    "min_error = np.min(all_scores)\n",
    "print(f'min error: {min_error}')\n",
    "\n",
    "min_alpha = alist[all_scores.index(max_y)] # output the alpha value corresponding to minimum score\n",
    "print(f'min alpha: {min_alpha}')"
   ]
  },
  {
   "cell_type": "code",
   "execution_count": 368,
   "metadata": {
    "ExecuteTime": {
     "end_time": "2019-11-03T19:40:23.083729Z",
     "start_time": "2019-11-03T19:40:23.046853Z"
    }
   },
   "outputs": [
    {
     "name": "stdout",
     "output_type": "stream",
     "text": [
      "Minimum error was -36669928.87 at alpha 2999\n"
     ]
    }
   ],
   "source": [
    "print(f\"Minimum error was {round(min_error, 2)} at alpha {min_alpha}\")"
   ]
  },
  {
   "cell_type": "code",
   "execution_count": 378,
   "metadata": {
    "scrolled": false
   },
   "outputs": [
    {
     "data": {
      "text/plain": [
       "<matplotlib.axes._subplots.AxesSubplot at 0x18b56d23b08>"
      ]
     },
     "execution_count": 378,
     "metadata": {},
     "output_type": "execute_result"
    },
    {
     "data": {
      "image/png": "[encoded data removed]",
      "text/plain": [
       "<Figure size 576x396 with 1 Axes>"
      ]
     },
     "metadata": {},
     "output_type": "display_data"
    }
   ],
   "source": [
    "# plot scores as line graph \n",
    "\n",
    "plotting = pd.DataFrame(all_scores, alist)\n",
    "plt.xlabel('alpha')\n",
    "plt.ylabel('all_scores')\n",
    "plotting.squeeze().plot.line(alpha = 1, linewidth = 3)"
   ]
  },
  {
   "cell_type": "markdown",
   "metadata": {},
   "source": [
    "### part p (Grid Search)"
   ]
  },
  {
   "cell_type": "code",
   "execution_count": 364,
   "metadata": {
    "scrolled": false
   },
   "outputs": [
    {
     "data": {
      "text/plain": [
       "GridSearchCV(cv=5, error_score='mean_squared_error',\n",
       "             estimator=SVR(C=1.0, cache_size=200, coef0=0.0, degree=3,\n",
       "                           epsilon=0.1, gamma='scale', kernel='rbf',\n",
       "                           max_iter=-1, shrinking=True, tol=0.001,\n",
       "                           verbose=False),\n",
       "             iid='deprecated', n_jobs=None,\n",
       "             param_grid=[{'C': [10.0, 30.0, 100.0, 300.0, 1000.0, 3000.0,\n",
       "                                10000.0, 30000.0],\n",
       "                          'kernel': ['linear']},\n",
       "                         {'C': [1.0, 3.0, 10.0, 30.0, 100.0, 300.0, 1000.0,\n",
       "                                3000.0],\n",
       "                          'gamma': [0.01, 0.03, 0.1, 0.3, 1.0, 3.0],\n",
       "                          'kernel': ['rbf']}],\n",
       "             pre_dispatch='2*n_jobs', refit=True, return_train_score=False,\n",
       "             scoring=None, verbose=0)"
      ]
     },
     "execution_count": 364,
     "metadata": {},
     "output_type": "execute_result"
    }
   ],
   "source": [
    "from sklearn.svm import SVR\n",
    "from sklearn.model_selection import GridSearchCV\n",
    "\n",
    "parameters = [\n",
    "    {'kernel':['linear'], 'C':[10.0, 30.0, 100.0, 300.0, 1000.0, 3000.0, 10000.0, 30000.0] },\n",
    "    {'kernel': ['rbf'], 'C' :[1.0, 3.0, 10.0, 30.0, 100.0, 300.0, 1000.0, 3000.0 ], \n",
    "     'gamma':[ 0.01, 0.03, 0.1, 0.3, 1.0, 3.0 ]}\n",
    "]\n",
    "\n",
    "svm_reg = SVR()\n",
    "grid_search = GridSearchCV(svm_reg, param_grid, cv=5, error_score = 'mean_squared_error')\n",
    "grid_search.fit(train_x_e, train_y.values.ravel())\n",
    "\n",
    "\n",
    "#svr = GridSearchCV(SVR(), parameters, cv=5, scoring = 'neg_mean_squared_error')\n",
    "#svr.fit(train_x_m,train_y)"
   ]
  },
  {
   "cell_type": "code",
   "execution_count": 365,
   "metadata": {},
   "outputs": [
    {
     "name": "stdout",
     "output_type": "stream",
     "text": [
      "0.8259416968672774\n",
      "{'C': 3000.0, 'kernel': 'linear'}\n"
     ]
    }
   ],
   "source": [
    "best_mse = grid_search.best_score_\n",
    "print(best_mse)\n",
    "\n",
    "best_parameters = grid_search.best_params_\n",
    "print(best_parameters)"
   ]
  }
 ],
 "metadata": {
  "kernelspec": {
   "display_name": "Python 3",
   "language": "python",
   "name": "python3"
  },
  "language_info": {
   "codemirror_mode": {
    "name": "ipython",
    "version": 3
   },
   "file_extension": ".py",
   "mimetype": "text/x-python",
   "name": "python",
   "nbconvert_exporter": "python",
   "pygments_lexer": "ipython3",
   "version": "3.7.6"
  },
  "toc": {
   "base_numbering": 1,
   "nav_menu": {},
   "number_sections": true,
   "sideBar": true,
   "skip_h1_title": false,
   "title_cell": "Table of Contents",
   "title_sidebar": "Contents",
   "toc_cell": false,
   "toc_position": {},
   "toc_section_display": true,
   "toc_window_display": false
  }
 },
 "nbformat": 4,
 "nbformat_minor": 2
}
